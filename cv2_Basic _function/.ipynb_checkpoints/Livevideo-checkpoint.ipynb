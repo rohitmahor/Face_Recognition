{
 "cells": [
  {
   "cell_type": "code",
   "execution_count": 1,
   "metadata": {},
   "outputs": [],
   "source": [
    "import cv2\n",
    "import numpy as np\n",
    "import matplotlib.pyplot as plt"
   ]
  },
  {
   "cell_type": "code",
   "execution_count": 2,
   "metadata": {},
   "outputs": [],
   "source": [
    "def plt_show(image, title=\"\"):\n",
    "    if np.ndim(image) == 3:\n",
    "        image = cv2.cvtColor(image, cv2.COLOR_BGR2RGB)\n",
    "    plt.axis(\"off\")\n",
    "    plt.title(title)\n",
    "    plt.imshow(image, cmap='Greys_r')\n",
    "    plt.show()"
   ]
  },
  {
   "cell_type": "markdown",
   "metadata": {},
   "source": [
    "## External Window"
   ]
  },
  {
   "cell_type": "code",
   "execution_count": 2,
   "metadata": {},
   "outputs": [],
   "source": [
    "webcam = cv2.VideoCapture(0)\n",
    "while True:\n",
    "    _, frame = webcam.read()\n",
    "    cv2.imshow(\"face\", frame)\n",
    "    \n",
    "    # 27 for ESC key\n",
    "    k = cv2.waitKey(30) & 0xff\n",
    "    if k == 27:\n",
    "        break\n",
    "    \n",
    "webcam.release()\n",
    "cv2.destroyAllWindows()"
   ]
  },
  {
   "cell_type": "markdown",
   "metadata": {},
   "source": [
    "## In Notebook\n",
    "__Note__: for KeyboardInterrupt press i 2 times"
   ]
  },
  {
   "cell_type": "code",
   "execution_count": 34,
   "metadata": {},
   "outputs": [
    {
     "name": "stdout",
     "output_type": "stream",
     "text": [
      "Video Close\n"
     ]
    }
   ],
   "source": [
    "webcam = cv2.VideoCapture(0)\n",
    "from IPython.display import clear_output\n",
    "try:\n",
    "    while True:\n",
    "        _, frame = webcam.read()\n",
    "        plt_show(frame)\n",
    "        clear_output(wait=True)\n",
    "except KeyboardInterrupt:\n",
    "    print(\"Video Close\")\n",
    "    "
   ]
  },
  {
   "cell_type": "code",
   "execution_count": 35,
   "metadata": {},
   "outputs": [],
   "source": [
    "webcam.release()"
   ]
  },
  {
   "cell_type": "markdown",
   "metadata": {},
   "source": [
    "## Read and write video\n",
    "### 1.  External window"
   ]
  },
  {
   "cell_type": "code",
   "execution_count": 38,
   "metadata": {},
   "outputs": [],
   "source": [
    "# read video\n",
    "webcam = cv2.VideoCapture('/home/rohitkumar/Downloads/Black.Panther.2018.720p.New.HDTS.X264.MP3.128kbps.LLG/Black.Panther.2018.720p.New.HDTS.X264.MP3.128kbps.LLG.mp4')\n",
    "\n",
    "while webcam.isOpened:\n",
    "    _, frame = webcam.read()\n",
    "    cv2.imshow(\"Video\", frame)\n",
    "    \n",
    "    if cv2.waitKey(20) & 0xff == 27:\n",
    "        break\n",
    "        \n",
    "webcam.release()\n",
    "cv2.destroyAllWindows()\n"
   ]
  },
  {
   "cell_type": "markdown",
   "metadata": {},
   "source": [
    "### 2.  In Notebook"
   ]
  },
  {
   "cell_type": "code",
   "execution_count": 42,
   "metadata": {},
   "outputs": [
    {
     "name": "stdout",
     "output_type": "stream",
     "text": [
      "Video Close\n"
     ]
    }
   ],
   "source": [
    "# read video\n",
    "webcam = cv2.VideoCapture('/home/rohitkumar/Downloads/Black.Panther.2018.720p.New.HDTS.X264.MP3.128kbps.LLG/Black.Panther.2018.720p.New.HDTS.X264.MP3.128kbps.LLG.mp4')ii\n",
    "try:\n",
    "    while webcam.isOpened:\n",
    "        ret, frame = webcam.read()\n",
    "#         frame = frame[]\n",
    "        plt_show(frame)\n",
    "        clear_output(wait=True)\n",
    "except KeyboardInterrupt:\n",
    "    print(\"Video Close\")"
   ]
  },
  {
   "cell_type": "markdown",
   "metadata": {},
   "source": [
    "## Record Video\n",
    "### 1. External Window\n",
    "\n",
    "__cv2.VideoWriter_fourcc(*'XVID')__<br>\n",
    "__cv2.VideoWriter(path, fourcc, fps, pixel_size)__"
   ]
  },
  {
   "cell_type": "code",
   "execution_count": 45,
   "metadata": {},
   "outputs": [],
   "source": [
    "webcam = cv2.VideoCapture(0)\n",
    "\n",
    "fourcc = cv2.VideoWriter_fourcc(*'XVID')\n",
    "video = cv2.VideoWriter('video.avi', fourcc, 20, (640, 480))\n",
    "while True:\n",
    "    _, frame = webcam.read()\n",
    "    cv2.imshow(\"face\", frame)\n",
    "    video.write(frame)\n",
    "    \n",
    "    # 27 for ESC key\n",
    "    k = cv2.waitKey(30) & 0xff\n",
    "    if k == 27:\n",
    "        break\n",
    "    \n",
    "webcam.release()\n",
    "video.release()\n",
    "cv2.destroyAllWindows()"
   ]
  },
  {
   "cell_type": "markdown",
   "metadata": {},
   "source": [
    "### 2. In Notebook"
   ]
  },
  {
   "cell_type": "code",
   "execution_count": 48,
   "metadata": {},
   "outputs": [
    {
     "name": "stdout",
     "output_type": "stream",
     "text": [
      "Video Close\n"
     ]
    }
   ],
   "source": [
    "webcam = cv2.VideoCapture(0)\n",
    "\n",
    "fourcc = cv2.VideoWriter_fourcc(*'XVID')\n",
    "video = cv2.VideoWriter('video.avi', fourcc, 30, (640, 480))\n",
    "from IPython.display import clear_output\n",
    "try:\n",
    "    while True:\n",
    "        _, frame = webcam.read()\n",
    "        video.write(frame)\n",
    "        \n",
    "        plt_show(frame)\n",
    "        clear_output(wait=True)\n",
    "except KeyboardInterrupt:\n",
    "    print(\"Video Close\")\n",
    "\n",
    "webcam.release()\n",
    "video.release()\n",
    "cv2.destroyAllWindows()"
   ]
  },
  {
   "cell_type": "markdown",
   "metadata": {},
   "source": [
    "### View through circle"
   ]
  },
  {
   "cell_type": "code",
   "execution_count": 14,
   "metadata": {},
   "outputs": [],
   "source": [
    "webcam = cv2.VideoCapture(0)\n",
    "while True:\n",
    "    _, frame = webcam.read()\n",
    "    mask = np.zeros_like(frame)\n",
    "    height, width,_ = np.shape(frame)\n",
    "   \n",
    "    cv2.circle(mask, (int(height/2), int(width/2)), 200, (255, 255, 255), -1)\n",
    "    \n",
    "    frame = np.bitwise_and(mask, frame)\n",
    "    cv2.imshow(\"face\", frame)\n",
    "    \n",
    "    # 27 for ESC key\n",
    "    k = cv2.waitKey(30) & 0xff\n",
    "    if k == 27:\n",
    "        break\n",
    "    \n",
    "webcam.release()\n",
    "cv2.destroyAllWindows()"
   ]
  },
  {
   "cell_type": "markdown",
   "metadata": {},
   "source": [
    "## Face Detection"
   ]
  },
  {
   "cell_type": "code",
   "execution_count": 16,
   "metadata": {},
   "outputs": [],
   "source": [
    "webcam = cv2.VideoCapture(0)\n",
    "face_cascade = cv2.CascadeClassifier('/media/rohitkumar/Rohit-Sonu/python3/projects/Face_Recognition/haarcascade_frontalface_default.xml')\n",
    "\n",
    "while True:\n",
    "    _, frame = webcam.read()\n",
    "    gray = cv2.cvtColor(frame, cv2.COLOR_BGR2GRAY)\n",
    "    face = face_cascade.detectMultiScale(gray, 1.3, 5)\n",
    "    \n",
    "    for x,y,w,h in face:\n",
    "        cv2.rectangle(frame, (x, y), (x+w, y+h), (0, 0, 255), 2)\n",
    "    cv2.imshow(\"Face\", frame)\n",
    "    \n",
    "    if cv2.waitKey(20) & 0xff == 27:\n",
    "        break;\n",
    "webcam.release()\n",
    "cv2.destroyAllWindows()"
   ]
  },
  {
   "cell_type": "markdown",
   "metadata": {},
   "source": [
    "## Helpful classes for detection"
   ]
  },
  {
   "cell_type": "code",
   "execution_count": 3,
   "metadata": {},
   "outputs": [],
   "source": [
    "class FaceDetection(object):\n",
    "    def __init__(self, xml_path):\n",
    "        self.face_cascade = cv2.CascadeClassifier(xml_path)\n",
    "        \n",
    "    def detect(self, frame):\n",
    "        gray = cv2.cvtColor(frame, cv2.COLOR_BGR2GRAY)\n",
    "        face = self.face_cascade.detectMultiScale(gray, 1.3, 5)\n",
    "        \n",
    "#         for x,y,w,h in face:\n",
    "#             cv2.rectangle(frame, (x, y), (x+w, y+h), (0, 0, 255), 2)\n",
    "        return face"
   ]
  },
  {
   "cell_type": "code",
   "execution_count": 4,
   "metadata": {},
   "outputs": [],
   "source": [
    "class VideoCamera(object):\n",
    "    def __init__(self, index=0):\n",
    "        self.webcam = cv2.VideoCapture(index)\n",
    "        self.index = index\n",
    "        print(self.webcam.isOpened())\n",
    "        \n",
    "    def get_frame(self, gray=False):\n",
    "        _, frame = self.webcam.read()\n",
    "        if gray:\n",
    "            frame = cv2.cvtColor(frame, cv2.COLOR_BGR2GRAY)\n",
    "        return frame\n",
    "    \n",
    "    def delete(self):\n",
    "        self.webcam.release()\n",
    "        cv2.destroyAllWindows()\n",
    "        print(self.webcam.isOpened())"
   ]
  },
  {
   "cell_type": "markdown",
   "metadata": {},
   "source": [
    "### use of these classes"
   ]
  },
  {
   "cell_type": "code",
   "execution_count": 6,
   "metadata": {},
   "outputs": [
    {
     "name": "stdout",
     "output_type": "stream",
     "text": [
      "True\n",
      "False\n"
     ]
    }
   ],
   "source": [
    "webcam = VideoCamera(0)\n",
    "detector = FaceDetection('/media/rohitkumar/Rohit-Sonu/python3/projects/Face_Recognition/haarcascade_frontalface_default.xml')\n",
    "\n",
    "# try:\n",
    "while True:\n",
    "    frame = webcam.get_frame(False)\n",
    "    face = detector.detect(frame)\n",
    "\n",
    "    for x, y, w, h in face:\n",
    "        cv2.rectangle(frame, (x, y), (x+w, y+h), (0, 0, 255), 2)\n",
    "    cv2.imshow(\"Face\", frame)\n",
    "\n",
    "    if cv2.waitKey(20) & 0xff == 27:\n",
    "        break\n",
    "\n",
    "webcam.delete()\n",
    "        "
   ]
  },
  {
   "cell_type": "markdown",
   "metadata": {},
   "source": [
    "## Image Normalization\n",
    "-  Cut the face\n",
    "-  Normalized pixel intensity\n",
    "-  Resize face image\n",
    "-  Align face image"
   ]
  },
  {
   "cell_type": "markdown",
   "metadata": {},
   "source": [
    "### 1. Cut the faces"
   ]
  },
  {
   "cell_type": "code",
   "execution_count": 8,
   "metadata": {},
   "outputs": [],
   "source": [
    "def cut_faces(image, face_cord):\n",
    "    faces = []\n",
    "    \n",
    "    for x, y, w, h in face_cord:\n",
    "        w_rm = int(0.2 * w/2)\n",
    "#         print(w_rm)\n",
    "        faces.append(image[y:y+h, x+w_rm:x+w-w_rm])\n",
    "    \n",
    "    return faces"
   ]
  },
  {
   "cell_type": "code",
   "execution_count": 11,
   "metadata": {
    "scrolled": false
   },
   "outputs": [
    {
     "name": "stdout",
     "output_type": "stream",
     "text": [
      "Video Close\n",
      "False\n"
     ]
    }
   ],
   "source": [
    "webcam = VideoCamera(0)\n",
    "detector = FaceDetection('/media/rohitkumar/Rohit-Sonu/python3/projects/Face_Recognition/haarcascade_frontalface_default.xml')\n",
    "from IPython.display import clear_output\n",
    "try:\n",
    "    while True:\n",
    "        frame = webcam.get_frame()\n",
    "        face_cord = detector.detect(frame)\n",
    "        if len(face_cord):\n",
    "            cut = cut_faces(frame, face_cord)\n",
    "#             print(cut[0])\n",
    "            plt_show(cut[0])\n",
    "            clear_output(wait=True)\n",
    "except KeyboardInterrupt:\n",
    "    print(\"Video Close\")\n",
    "    webcam.delete()"
   ]
  },
  {
   "cell_type": "markdown",
   "metadata": {},
   "source": [
    "### 2. Normalized pixel intensity\n",
    "1. convert image from rgb to gray\n",
    "2. contrast enhanced"
   ]
  },
  {
   "cell_type": "code",
   "execution_count": 17,
   "metadata": {},
   "outputs": [],
   "source": [
    "def normalized(images):\n",
    "    images_norm = []\n",
    "    \n",
    "    for image in images:\n",
    "        if np.ndim(image) == 3:\n",
    "            images_norm.append(cv2.cvtColor(image, cv2.COLOR_BGR2GRAY))\n",
    "        else:\n",
    "            # contrast pixel intensity\n",
    "            images_norm.append(cv2.equalizeHist(image))\n",
    "    return images_norm"
   ]
  },
  {
   "cell_type": "code",
   "execution_count": 16,
   "metadata": {
    "scrolled": true
   },
   "outputs": [
    {
     "data": {
      "image/png": "[encoded data removed]",
      "text/plain": [
       "<matplotlib.figure.Figure at 0x7f35844566d8>"
      ]
     },
     "metadata": {},
     "output_type": "display_data"
    }
   ],
   "source": [
    "img1 = cv2.imread('/media/rohitkumar/Rohit-Sonu/python3/projects/face.png', 0)\n",
    "img2 = cv2.imread('/media/rohitkumar/Rohit-Sonu/python3/projects/face.png', 0)\n",
    "img2 = cv2.equalizeHist(img2)\n",
    "plt_show(np.hstack((img1, img2)), \"Before     After\")"
   ]
  },
  {
   "cell_type": "markdown",
   "metadata": {},
   "source": [
    "#### Cut and normalized face"
   ]
  },
  {
   "cell_type": "code",
   "execution_count": 31,
   "metadata": {
    "scrolled": true
   },
   "outputs": [
    {
     "name": "stdout",
     "output_type": "stream",
     "text": [
      "Video Close\n",
      "False\n"
     ]
    }
   ],
   "source": [
    "webcam = VideoCamera(0)\n",
    "detector = FaceDetection('/media/rohitkumar/Rohit-Sonu/python3/projects/Face_Recognition/haarcascade_frontalface_default.xml')\n",
    "from IPython.display import clear_output\n",
    "try:\n",
    "    while True:\n",
    "        frame = webcam.get_frame()\n",
    "        face_cord = detector.detect(frame)\n",
    "        if len(face_cord):\n",
    "            cut = cut_faces(frame, face_cord)\n",
    "            norm_frame = normalized(cut)\n",
    "#             print(cut[0])\n",
    "            plt_show(norm_frame[0])\n",
    "            clear_output(wait=True)\n",
    "except KeyboardInterrupt:\n",
    "    print(\"Video Close\")\n",
    "    webcam.delete()"
   ]
  },
  {
   "cell_type": "markdown",
   "metadata": {},
   "source": [
    "### 3. Resize"
   ]
  },
  {
   "cell_type": "code",
   "execution_count": 29,
   "metadata": {},
   "outputs": [],
   "source": [
    "def resize(frames, size=(100, 100)):\n",
    "    image_resize = []\n",
    "    \n",
    "    for frame in frames:\n",
    "        if frame.shape < size:\n",
    "            img = cv2.resize(frame, size, interpolation=cv2.INTER_AREA)\n",
    "        else:\n",
    "            img = cv2.resize(frame, size, interpolation=cv2.INTER_CUBIC)\n",
    "        image_resize.append(img)\n",
    "    \n",
    "    return image_resize"
   ]
  },
  {
   "cell_type": "markdown",
   "metadata": {},
   "source": [
    "#### Cut, normalized and resize face"
   ]
  },
  {
   "cell_type": "code",
   "execution_count": 32,
   "metadata": {},
   "outputs": [
    {
     "name": "stdout",
     "output_type": "stream",
     "text": [
      "Video Close\n",
      "False\n"
     ]
    }
   ],
   "source": [
    "webcam = VideoCamera(0)\n",
    "detector = FaceDetection('/media/rohitkumar/Rohit-Sonu/python3/projects/Face_Recognition/haarcascade_frontalface_default.xml')\n",
    "from IPython.display import clear_output\n",
    "try:\n",
    "    while True:\n",
    "        frame = webcam.get_frame()\n",
    "        face_cord = detector.detect(frame)\n",
    "        if len(face_cord):\n",
    "            cut = cut_faces(frame, face_cord)\n",
    "            norm_frame = normalized(cut)\n",
    "            resize_frame = resize(norm_frame)\n",
    "# #             print(cut[0])\n",
    "            plt_show(resize_frame[0])\n",
    "            clear_output(wait=True)\n",
    "except KeyboardInterrupt:\n",
    "    print(\"Video Close\")\n",
    "    webcam.delete()"
   ]
  },
  {
   "cell_type": "markdown",
   "metadata": {},
   "source": [
    "### 4. Align Image"
   ]
  },
  {
   "cell_type": "code",
   "execution_count": null,
   "metadata": {},
   "outputs": [],
   "source": []
  }
 ],
 "metadata": {
  "kernelspec": {
   "display_name": "Python 3",
   "language": "python",
   "name": "python3"
  },
  "language_info": {
   "codemirror_mode": {
    "name": "ipython",
    "version": 3
   },
   "file_extension": ".py",
   "mimetype": "text/x-python",
   "name": "python",
   "nbconvert_exporter": "python",
   "pygments_lexer": "ipython3",
   "version": "3.6.3"
  }
 },
 "nbformat": 4,
 "nbformat_minor": 2
}
